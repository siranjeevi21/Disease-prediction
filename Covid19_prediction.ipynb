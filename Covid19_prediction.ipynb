{
  "nbformat": 4,
  "nbformat_minor": 5,
  "metadata": {
    "kernelspec": {
      "display_name": "Python 3",
      "language": "python",
      "name": "python3"
    },
    "language_info": {
      "codemirror_mode": {
        "name": "ipython",
        "version": 3
      },
      "file_extension": ".py",
      "mimetype": "text/x-python",
      "name": "python",
      "nbconvert_exporter": "python",
      "pygments_lexer": "ipython3",
      "version": "3.8.8"
    },
    "colab": {
      "name": "Copy1.ipynb",
      "provenance": [],
      "include_colab_link": true
    },
    "accelerator": "TPU"
  },
  "cells": [
    {
      "cell_type": "markdown",
      "metadata": {
        "id": "view-in-github",
        "colab_type": "text"
      },
      "source": [
        "<a href=\"https://colab.research.google.com/github/siranjeevi21/Disease-prediction/blob/main/Covid19_prediction.ipynb\" target=\"_parent\"><img src=\"https://colab.research.google.com/assets/colab-badge.svg\" alt=\"Open In Colab\"/></a>"
      ]
    },
    {
      "cell_type": "code",
      "metadata": {
        "id": "f5b430ba"
      },
      "source": [
        "import numpy as np\n",
        "import pandas as pd"
      ],
      "id": "f5b430ba",
      "execution_count": 2,
      "outputs": []
    },
    {
      "cell_type": "code",
      "metadata": {
        "id": "79ae74b6"
      },
      "source": [
        "import cv2\n",
        "import os\n",
        "from random import shuffle\n",
        "import tensorflow as tf\n",
        "import matplotlib.pyplot as plt\n",
        "from tensorflow.keras.preprocessing.image import ImageDataGenerator\n",
        "import glob as gb\n",
        "from tensorflow.keras.utils import to_categorical"
      ],
      "id": "79ae74b6",
      "execution_count": 3,
      "outputs": []
    },
    {
      "cell_type": "code",
      "metadata": {
        "colab": {
          "base_uri": "https://localhost:8080/"
        },
        "id": "gML3c1GKckYK",
        "outputId": "df79d8f3-acae-49eb-e5c4-6206acff9ed2"
      },
      "source": [
        "from google.colab import drive\n",
        "drive.mount('/content/drive')"
      ],
      "id": "gML3c1GKckYK",
      "execution_count": 4,
      "outputs": [
        {
          "output_type": "stream",
          "text": [
            "Drive already mounted at /content/drive; to attempt to forcibly remount, call drive.mount(\"/content/drive\", force_remount=True).\n"
          ],
          "name": "stdout"
        }
      ]
    },
    {
      "cell_type": "code",
      "metadata": {
        "id": "09b371fd"
      },
      "source": [
        "my_data_path = \"/content/drive/MyDrive/Data\"\n",
        "train_path = \"/content/drive/MyDrive/Data/train\"\n",
        "test_path = \"/content/drive/MyDrive/Data/test\""
      ],
      "id": "09b371fd",
      "execution_count": 5,
      "outputs": []
    },
    {
      "cell_type": "code",
      "metadata": {
        "id": "94cadc79"
      },
      "source": [
        "image_shape = (100,100,1)\n",
        "image_gen = ImageDataGenerator(rotation_range=20,\n",
        "                               width_shift_range=0.10,\n",
        "                               height_shift_range=0.10,\n",
        "                               rescale=1/255,\n",
        "                               shear_range=0.1,\n",
        "                               zoom_range=0.1,\n",
        "                               horizontal_flip=True,\n",
        "                               fill_mode='nearest')"
      ],
      "id": "94cadc79",
      "execution_count": 6,
      "outputs": []
    },
    {
      "cell_type": "code",
      "metadata": {
        "id": "H4dVmj9znhMT"
      },
      "source": [
        "import pandas as pd\n",
        "import numpy as np \n",
        "import seaborn as sns\n",
        "import matplotlib.pyplot as plt \n",
        "import warnings\n",
        "warnings.filterwarnings('ignore')\n",
        "\n",
        "from tensorflow.keras.preprocessing.image import ImageDataGenerator\n",
        "from tensorflow.keras.models import Sequential\n",
        "from tensorflow.keras.layers import Activation, Dropout, Flatten, Dense, Conv2D, MaxPooling2D\n",
        "from tensorflow.keras.callbacks import EarlyStopping\n",
        "\n",
        "%matplotlib inline"
      ],
      "id": "H4dVmj9znhMT",
      "execution_count": 7,
      "outputs": []
    },
    {
      "cell_type": "code",
      "metadata": {
        "id": "f9278d4a",
        "colab": {
          "base_uri": "https://localhost:8080/"
        },
        "outputId": "166ae461-e268-4790-deb2-eaa5df1fc42a"
      },
      "source": [
        "model = Sequential()\n",
        "\n",
        "model.add(Conv2D(filters=128, kernel_size=(3,3),input_shape=image_shape, activation='relu',))\n",
        "model.add(MaxPooling2D(pool_size=(2, 2)))\n",
        "\n",
        "model.add(Conv2D(filters=64, kernel_size=(3,3),input_shape=image_shape, activation='relu',))\n",
        "model.add(MaxPooling2D(pool_size=(2, 2)))\n",
        "\n",
        "model.add(Conv2D(filters=32, kernel_size=(3,3),input_shape=image_shape, activation='relu',))\n",
        "model.add(MaxPooling2D(pool_size=(2, 2)))\n",
        "\n",
        "model.add(Flatten())\n",
        "\n",
        "\n",
        "model.add(Dense(64, activation = 'relu'))\n",
        "model.add(Dropout(0.5))\n",
        "\n",
        "model.add(Dense(3, activation = 'softmax'))\n",
        "model.compile(loss='categorical_crossentropy',\n",
        "              optimizer='adam',\n",
        "              metrics=['accuracy'])\n",
        "model.summary()\n"
      ],
      "id": "f9278d4a",
      "execution_count": 8,
      "outputs": [
        {
          "output_type": "stream",
          "text": [
            "Model: \"sequential\"\n",
            "_________________________________________________________________\n",
            "Layer (type)                 Output Shape              Param #   \n",
            "=================================================================\n",
            "conv2d (Conv2D)              (None, 98, 98, 128)       1280      \n",
            "_________________________________________________________________\n",
            "max_pooling2d (MaxPooling2D) (None, 49, 49, 128)       0         \n",
            "_________________________________________________________________\n",
            "conv2d_1 (Conv2D)            (None, 47, 47, 64)        73792     \n",
            "_________________________________________________________________\n",
            "max_pooling2d_1 (MaxPooling2 (None, 23, 23, 64)        0         \n",
            "_________________________________________________________________\n",
            "conv2d_2 (Conv2D)            (None, 21, 21, 32)        18464     \n",
            "_________________________________________________________________\n",
            "max_pooling2d_2 (MaxPooling2 (None, 10, 10, 32)        0         \n",
            "_________________________________________________________________\n",
            "flatten (Flatten)            (None, 3200)              0         \n",
            "_________________________________________________________________\n",
            "dense (Dense)                (None, 64)                204864    \n",
            "_________________________________________________________________\n",
            "dropout (Dropout)            (None, 64)                0         \n",
            "_________________________________________________________________\n",
            "dense_1 (Dense)              (None, 3)                 195       \n",
            "=================================================================\n",
            "Total params: 298,595\n",
            "Trainable params: 298,595\n",
            "Non-trainable params: 0\n",
            "_________________________________________________________________\n"
          ],
          "name": "stdout"
        }
      ]
    },
    {
      "cell_type": "code",
      "metadata": {
        "colab": {
          "base_uri": "https://localhost:8080/"
        },
        "id": "4f34bfc1",
        "outputId": "42997573-169e-415b-ad75-9dff2abbb860"
      },
      "source": [
        "early_stop = EarlyStopping(monitor='val_loss',patience=2, verbose = 1)\n",
        "batch_size = 64\n",
        "\n",
        "train_image_gen = image_gen.flow_from_directory(train_path,\n",
        "                                               target_size=(100,100),\n",
        "                                                color_mode='grayscale',\n",
        "                                               batch_size=batch_size,\n",
        "                                               class_mode='categorical')"
      ],
      "id": "4f34bfc1",
      "execution_count": 10,
      "outputs": [
        {
          "output_type": "stream",
          "text": [
            "Found 7095 images belonging to 3 classes.\n"
          ],
          "name": "stdout"
        }
      ]
    },
    {
      "cell_type": "code",
      "metadata": {
        "id": "dda3aebf",
        "colab": {
          "base_uri": "https://localhost:8080/"
        },
        "outputId": "302d8b18-b44f-4734-c1e5-c1b3e334c139"
      },
      "source": [
        "test_image_gen = image_gen.flow_from_directory(test_path,\n",
        "                                               target_size=(100,100),\n",
        "                                               color_mode='grayscale',\n",
        "                                               batch_size=batch_size,\n",
        "                                               class_mode='categorical',shuffle=False)"
      ],
      "id": "dda3aebf",
      "execution_count": 11,
      "outputs": [
        {
          "output_type": "stream",
          "text": [
            "Found 1324 images belonging to 3 classes.\n"
          ],
          "name": "stdout"
        }
      ]
    },
    {
      "cell_type": "code",
      "metadata": {
        "colab": {
          "base_uri": "https://localhost:8080/"
        },
        "id": "70c6684b",
        "outputId": "27f8b2d9-d789-49ff-f0ab-c0ab31d56c1d"
      },
      "source": [
        "print(train_image_gen.class_indices)\n",
        "print(test_image_gen.class_indices)"
      ],
      "id": "70c6684b",
      "execution_count": 15,
      "outputs": [
        {
          "output_type": "stream",
          "text": [
            "{'COVID19': 0, 'NORMAL': 1, 'PNEUMONIA': 2}\n",
            "{'COVID19': 0, 'NORMAL': 1, 'PNEUMONIA': 2}\n"
          ],
          "name": "stdout"
        }
      ]
    },
    {
      "cell_type": "code",
      "metadata": {
        "colab": {
          "base_uri": "https://localhost:8080/"
        },
        "id": "xuhPqr-hnNAA",
        "outputId": "07d9c121-e2cd-489a-af65-f5a9123d1b26"
      },
      "source": [
        "results = model.fit(train_image_gen,epochs=5,\n",
        "                              validation_data=test_image_gen,\n",
        "                             callbacks=[early_stop])"
      ],
      "id": "xuhPqr-hnNAA",
      "execution_count": 12,
      "outputs": [
        {
          "output_type": "stream",
          "text": [
            "Epoch 1/5\n",
            "111/111 [==============================] - 2346s 21s/step - loss: 0.7694 - accuracy: 0.7053 - val_loss: 0.5216 - val_accuracy: 0.7092\n",
            "Epoch 2/5\n",
            "111/111 [==============================] - 487s 4s/step - loss: 0.4841 - accuracy: 0.7967 - val_loss: 0.4403 - val_accuracy: 0.8104\n",
            "Epoch 3/5\n",
            "111/111 [==============================] - 479s 4s/step - loss: 0.4385 - accuracy: 0.8197 - val_loss: 0.4026 - val_accuracy: 0.8474\n",
            "Epoch 4/5\n",
            "111/111 [==============================] - 480s 4s/step - loss: 0.3854 - accuracy: 0.8473 - val_loss: 0.3221 - val_accuracy: 0.8784\n",
            "Epoch 5/5\n",
            "111/111 [==============================] - 482s 4s/step - loss: 0.3947 - accuracy: 0.8503 - val_loss: 0.3679 - val_accuracy: 0.8467\n"
          ],
          "name": "stdout"
        }
      ]
    },
    {
      "cell_type": "code",
      "metadata": {
        "colab": {
          "base_uri": "https://localhost:8080/",
          "height": 196
        },
        "id": "53wYucpSnNCs",
        "outputId": "03338691-c19c-489c-85fe-ab693704ece4"
      },
      "source": [
        "loss_df = pd.DataFrame(model.history.history)\n",
        "loss_df"
      ],
      "id": "53wYucpSnNCs",
      "execution_count": 13,
      "outputs": [
        {
          "output_type": "execute_result",
          "data": {
            "text/html": [
              "<div>\n",
              "<style scoped>\n",
              "    .dataframe tbody tr th:only-of-type {\n",
              "        vertical-align: middle;\n",
              "    }\n",
              "\n",
              "    .dataframe tbody tr th {\n",
              "        vertical-align: top;\n",
              "    }\n",
              "\n",
              "    .dataframe thead th {\n",
              "        text-align: right;\n",
              "    }\n",
              "</style>\n",
              "<table border=\"1\" class=\"dataframe\">\n",
              "  <thead>\n",
              "    <tr style=\"text-align: right;\">\n",
              "      <th></th>\n",
              "      <th>loss</th>\n",
              "      <th>accuracy</th>\n",
              "      <th>val_loss</th>\n",
              "      <th>val_accuracy</th>\n",
              "    </tr>\n",
              "  </thead>\n",
              "  <tbody>\n",
              "    <tr>\n",
              "      <th>0</th>\n",
              "      <td>0.681921</td>\n",
              "      <td>0.735307</td>\n",
              "      <td>0.521625</td>\n",
              "      <td>0.709215</td>\n",
              "    </tr>\n",
              "    <tr>\n",
              "      <th>1</th>\n",
              "      <td>0.478530</td>\n",
              "      <td>0.799013</td>\n",
              "      <td>0.440285</td>\n",
              "      <td>0.810423</td>\n",
              "    </tr>\n",
              "    <tr>\n",
              "      <th>2</th>\n",
              "      <td>0.421445</td>\n",
              "      <td>0.829739</td>\n",
              "      <td>0.402646</td>\n",
              "      <td>0.847432</td>\n",
              "    </tr>\n",
              "    <tr>\n",
              "      <th>3</th>\n",
              "      <td>0.392355</td>\n",
              "      <td>0.846653</td>\n",
              "      <td>0.322058</td>\n",
              "      <td>0.878399</td>\n",
              "    </tr>\n",
              "    <tr>\n",
              "      <th>4</th>\n",
              "      <td>0.379839</td>\n",
              "      <td>0.857223</td>\n",
              "      <td>0.367881</td>\n",
              "      <td>0.846677</td>\n",
              "    </tr>\n",
              "  </tbody>\n",
              "</table>\n",
              "</div>"
            ],
            "text/plain": [
              "       loss  accuracy  val_loss  val_accuracy\n",
              "0  0.681921  0.735307  0.521625      0.709215\n",
              "1  0.478530  0.799013  0.440285      0.810423\n",
              "2  0.421445  0.829739  0.402646      0.847432\n",
              "3  0.392355  0.846653  0.322058      0.878399\n",
              "4  0.379839  0.857223  0.367881      0.846677"
            ]
          },
          "metadata": {
            "tags": []
          },
          "execution_count": 13
        }
      ]
    },
    {
      "cell_type": "code",
      "metadata": {
        "colab": {
          "base_uri": "https://localhost:8080/",
          "height": 281
        },
        "id": "0dahH2GFnNFX",
        "outputId": "49feeb90-47ef-485c-c03a-1dcadd05dcdf"
      },
      "source": [
        "loss_df[['accuracy', 'val_accuracy']].plot()"
      ],
      "id": "0dahH2GFnNFX",
      "execution_count": 14,
      "outputs": [
        {
          "output_type": "execute_result",
          "data": {
            "text/plain": [
              "<matplotlib.axes._subplots.AxesSubplot at 0x7f884dfe2190>"
            ]
          },
          "metadata": {
            "tags": []
          },
          "execution_count": 14
        },
        {
          "output_type": "display_data",
          "data": {
            "image/png": "[encoded data removed]",
            "text/plain": [
              "<Figure size 432x288 with 1 Axes>"
            ]
          },
          "metadata": {
            "tags": [],
            "needs_background": "light"
          }
        }
      ]
    },
    {
      "cell_type": "code",
      "metadata": {
        "colab": {
          "base_uri": "https://localhost:8080/",
          "height": 281
        },
        "id": "uGxp6TjKnNII",
        "outputId": "129f8e9d-2b42-4e59-de18-a023180c6b77"
      },
      "source": [
        "loss_df[['loss', 'val_loss']].plot()"
      ],
      "id": "uGxp6TjKnNII",
      "execution_count": 15,
      "outputs": [
        {
          "output_type": "execute_result",
          "data": {
            "text/plain": [
              "<matplotlib.axes._subplots.AxesSubplot at 0x7f884deef790>"
            ]
          },
          "metadata": {
            "tags": []
          },
          "execution_count": 15
        },
        {
          "output_type": "display_data",
          "data": {
            "image/png": "[encoded data removed]",
            "text/plain": [
              "<Figure size 432x288 with 1 Axes>"
            ]
          },
          "metadata": {
            "tags": [],
            "needs_background": "light"
          }
        }
      ]
    },
    {
      "cell_type": "code",
      "metadata": {
        "colab": {
          "base_uri": "https://localhost:8080/"
        },
        "id": "8EU6nFkxnNKd",
        "outputId": "4817d35a-2844-41e1-9d53-602e7b77e415"
      },
      "source": [
        "model.evaluate(test_image_gen)"
      ],
      "id": "8EU6nFkxnNKd",
      "execution_count": 16,
      "outputs": [
        {
          "output_type": "stream",
          "text": [
            "21/21 [==============================] - 47s 2s/step - loss: 0.3575 - accuracy: 0.8557\n"
          ],
          "name": "stdout"
        },
        {
          "output_type": "execute_result",
          "data": {
            "text/plain": [
              "[0.3574584126472473, 0.8557401895523071]"
            ]
          },
          "metadata": {
            "tags": []
          },
          "execution_count": 16
        }
      ]
    },
    {
      "cell_type": "code",
      "metadata": {
        "colab": {
          "base_uri": "https://localhost:8080/"
        },
        "id": "kRZVwhfsnNNw",
        "outputId": "144cf835-7357-4d73-bb71-20af639b9fea"
      },
      "source": [
        "predictions = np.argmax(model.predict(test_image_gen), axis = -1)\n",
        "predictions"
      ],
      "id": "kRZVwhfsnNNw",
      "execution_count": 17,
      "outputs": [
        {
          "output_type": "execute_result",
          "data": {
            "text/plain": [
              "array([1, 0, 0, ..., 2, 2, 2])"
            ]
          },
          "metadata": {
            "tags": []
          },
          "execution_count": 17
        }
      ]
    },
    {
      "cell_type": "code",
      "metadata": {
        "colab": {
          "base_uri": "https://localhost:8080/"
        },
        "id": "v1qYMNyCnaNz",
        "outputId": "7126b259-3856-4c8f-d33f-59f379dc5d8f"
      },
      "source": [
        "from sklearn.metrics import classification_report, confusion_matrix\n",
        "print(classification_report(test_image_gen.classes,predictions))"
      ],
      "id": "v1qYMNyCnaNz",
      "execution_count": 18,
      "outputs": [
        {
          "output_type": "stream",
          "text": [
            "              precision    recall  f1-score   support\n",
            "\n",
            "           0       0.90      0.72      0.80       116\n",
            "           1       0.75      0.71      0.73       351\n",
            "           2       0.87      0.91      0.89       857\n",
            "\n",
            "    accuracy                           0.84      1324\n",
            "   macro avg       0.84      0.78      0.81      1324\n",
            "weighted avg       0.84      0.84      0.84      1324\n",
            "\n"
          ],
          "name": "stdout"
        }
      ]
    },
    {
      "cell_type": "code",
      "metadata": {
        "colab": {
          "base_uri": "https://localhost:8080/",
          "height": 332
        },
        "id": "e1AP85L4naQu",
        "outputId": "a129ac73-a57d-4c21-a104-b0b65ad3b11a"
      },
      "source": [
        "print(confusion_matrix(test_image_gen.classes,predictions))\n",
        "sns.heatmap(confusion_matrix(test_image_gen.classes,predictions), annot = True)"
      ],
      "id": "e1AP85L4naQu",
      "execution_count": 19,
      "outputs": [
        {
          "output_type": "stream",
          "text": [
            "[[ 83  18  15]\n",
            " [  2 250  99]\n",
            " [  7  66 784]]\n"
          ],
          "name": "stdout"
        },
        {
          "output_type": "execute_result",
          "data": {
            "text/plain": [
              "<matplotlib.axes._subplots.AxesSubplot at 0x7f884c2424d0>"
            ]
          },
          "metadata": {
            "tags": []
          },
          "execution_count": 19
        },
        {
          "output_type": "display_data",
          "data": {
            "image/png": "[encoded data removed]",
            "text/plain": [
              "<Figure size 432x288 with 2 Axes>"
            ]
          },
          "metadata": {
            "tags": [],
            "needs_background": "light"
          }
        }
      ]
    },
    {
      "cell_type": "code",
      "metadata": {
        "id": "duZhudsjnaTq"
      },
      "source": [
        "model.save('modelCovid19.h5')"
      ],
      "id": "duZhudsjnaTq",
      "execution_count": 20,
      "outputs": []
    },
    {
      "cell_type": "code",
      "metadata": {
        "id": "J4V9CmhWnaWU"
      },
      "source": [
        ""
      ],
      "id": "J4V9CmhWnaWU",
      "execution_count": null,
      "outputs": []
    },
    {
      "cell_type": "code",
      "metadata": {
        "id": "Hw4o-0UTnaZr"
      },
      "source": [
        ""
      ],
      "id": "Hw4o-0UTnaZr",
      "execution_count": null,
      "outputs": []
    }
  ]
}